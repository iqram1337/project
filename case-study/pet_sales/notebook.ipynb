{
 "cells": [
  {
   "cell_type": "code",
   "execution_count": 1,
   "id": "939d2621",
   "metadata": {},
   "outputs": [],
   "source": [
    "# module i'll use\n",
    "import pandas as pd\n",
    "import numpy as np\n",
    "import seaborn as sns\n",
    "import matplotlib.pyplot as plt\n",
    "\n",
    "plt.style.use(\"fivethirtyeight\")"
   ]
  },
  {
   "cell_type": "code",
   "execution_count": 2,
   "id": "32677699",
   "metadata": {},
   "outputs": [],
   "source": [
    "# reading the datasets\n",
    "df_raw = pd.read_csv('data/pet_sales.csv')\n",
    "\n",
    "# change number of show rows\n",
    "pd.set_option(\"display.max_rows\", 1000)"
   ]
  },
  {
   "cell_type": "code",
   "execution_count": 3,
   "id": "3f0d752f",
   "metadata": {},
   "outputs": [
    {
     "data": {
      "text/plain": [
       "(879, 9)"
      ]
     },
     "execution_count": 3,
     "metadata": {},
     "output_type": "execute_result"
    }
   ],
   "source": [
    "# look at the total rows in the datasets\n",
    "df_raw.shape"
   ]
  },
  {
   "cell_type": "code",
   "execution_count": 4,
   "id": "b5152faa",
   "metadata": {},
   "outputs": [
    {
     "data": {
      "text/html": [
       "<div>\n",
       "<style scoped>\n",
       "    .dataframe tbody tr th:only-of-type {\n",
       "        vertical-align: middle;\n",
       "    }\n",
       "\n",
       "    .dataframe tbody tr th {\n",
       "        vertical-align: top;\n",
       "    }\n",
       "\n",
       "    .dataframe thead th {\n",
       "        text-align: right;\n",
       "    }\n",
       "</style>\n",
       "<table border=\"1\" class=\"dataframe\">\n",
       "  <thead>\n",
       "    <tr style=\"text-align: right;\">\n",
       "      <th></th>\n",
       "      <th>product_id</th>\n",
       "      <th>product_category</th>\n",
       "      <th>sales</th>\n",
       "      <th>price</th>\n",
       "      <th>vendor_id</th>\n",
       "      <th>pet_size</th>\n",
       "      <th>pet_type</th>\n",
       "      <th>rating</th>\n",
       "      <th>re_buy</th>\n",
       "    </tr>\n",
       "  </thead>\n",
       "  <tbody>\n",
       "    <tr>\n",
       "      <th>0</th>\n",
       "      <td>5040</td>\n",
       "      <td>Equipment</td>\n",
       "      <td>$123,000</td>\n",
       "      <td>94.81</td>\n",
       "      <td>VC_1605</td>\n",
       "      <td>small</td>\n",
       "      <td>fish</td>\n",
       "      <td>7</td>\n",
       "      <td>1</td>\n",
       "    </tr>\n",
       "    <tr>\n",
       "      <th>1</th>\n",
       "      <td>4567</td>\n",
       "      <td>Toys</td>\n",
       "      <td>$61,000</td>\n",
       "      <td>120.95</td>\n",
       "      <td>VC_1132</td>\n",
       "      <td>small</td>\n",
       "      <td>cat</td>\n",
       "      <td>10</td>\n",
       "      <td>0</td>\n",
       "    </tr>\n",
       "    <tr>\n",
       "      <th>2</th>\n",
       "      <td>4237</td>\n",
       "      <td>Toys</td>\n",
       "      <td>$218,000</td>\n",
       "      <td>106.34</td>\n",
       "      <td>VC_802</td>\n",
       "      <td>small</td>\n",
       "      <td>hamster</td>\n",
       "      <td>6</td>\n",
       "      <td>0</td>\n",
       "    </tr>\n",
       "    <tr>\n",
       "      <th>3</th>\n",
       "      <td>4364</td>\n",
       "      <td>Snack</td>\n",
       "      <td>$69,000</td>\n",
       "      <td>241.27</td>\n",
       "      <td>VC_929</td>\n",
       "      <td>large</td>\n",
       "      <td>dog</td>\n",
       "      <td>1</td>\n",
       "      <td>1</td>\n",
       "    </tr>\n",
       "    <tr>\n",
       "      <th>4</th>\n",
       "      <td>4184</td>\n",
       "      <td>Supplements</td>\n",
       "      <td>$138,000</td>\n",
       "      <td>133.68</td>\n",
       "      <td>VC_749</td>\n",
       "      <td>large</td>\n",
       "      <td>dog</td>\n",
       "      <td>10</td>\n",
       "      <td>0</td>\n",
       "    </tr>\n",
       "  </tbody>\n",
       "</table>\n",
       "</div>"
      ],
      "text/plain": [
       "   product_id product_category     sales   price vendor_id pet_size pet_type  \\\n",
       "0        5040        Equipment  $123,000   94.81   VC_1605    small     fish   \n",
       "1        4567             Toys   $61,000  120.95   VC_1132    small      cat   \n",
       "2        4237             Toys  $218,000  106.34    VC_802    small  hamster   \n",
       "3        4364            Snack   $69,000  241.27    VC_929    large      dog   \n",
       "4        4184      Supplements  $138,000  133.68    VC_749    large      dog   \n",
       "\n",
       "   rating  re_buy  \n",
       "0       7       1  \n",
       "1      10       0  \n",
       "2       6       0  \n",
       "3       1       1  \n",
       "4      10       0  "
      ]
     },
     "execution_count": 4,
     "metadata": {},
     "output_type": "execute_result"
    }
   ],
   "source": [
    "# print the first 5 row for the datasets\n",
    "df_raw.head()"
   ]
  },
  {
   "cell_type": "markdown",
   "id": "8fc09430",
   "metadata": {},
   "source": [
    "# Data Validation"
   ]
  },
  {
   "cell_type": "code",
   "execution_count": 5,
   "id": "d0fde73a",
   "metadata": {
    "scrolled": true
   },
   "outputs": [
    {
     "name": "stdout",
     "output_type": "stream",
     "text": [
      "<class 'pandas.core.frame.DataFrame'>\n",
      "RangeIndex: 879 entries, 0 to 878\n",
      "Data columns (total 9 columns):\n",
      " #   Column            Non-Null Count  Dtype  \n",
      "---  ------            --------------  -----  \n",
      " 0   product_id        879 non-null    int64  \n",
      " 1   product_category  879 non-null    object \n",
      " 2   sales             879 non-null    object \n",
      " 3   price             879 non-null    float64\n",
      " 4   vendor_id         879 non-null    object \n",
      " 5   pet_size          879 non-null    object \n",
      " 6   pet_type          879 non-null    object \n",
      " 7   rating            879 non-null    int64  \n",
      " 8   re_buy            879 non-null    int64  \n",
      "dtypes: float64(1), int64(3), object(5)\n",
      "memory usage: 61.9+ KB\n"
     ]
    }
   ],
   "source": [
    "# looking at the general info of the dataset\n",
    "df_raw.info()"
   ]
  },
  {
   "cell_type": "code",
   "execution_count": 6,
   "id": "11e44b4f",
   "metadata": {
    "scrolled": false
   },
   "outputs": [
    {
     "data": {
      "text/plain": [
       "product_id          False\n",
       "product_category    False\n",
       "sales               False\n",
       "price               False\n",
       "vendor_id           False\n",
       "pet_size            False\n",
       "pet_type            False\n",
       "rating              False\n",
       "re_buy              False\n",
       "dtype: bool"
      ]
     },
     "execution_count": 6,
     "metadata": {},
     "output_type": "execute_result"
    }
   ],
   "source": [
    "# re-checking the null values\n",
    "df_raw.isna().any()"
   ]
  },
  {
   "cell_type": "code",
   "execution_count": 7,
   "id": "813247f1",
   "metadata": {
    "scrolled": true
   },
   "outputs": [
    {
     "data": {
      "text/plain": [
       "product_id            int64\n",
       "product_category     object\n",
       "sales                object\n",
       "price               float64\n",
       "vendor_id            object\n",
       "pet_size             object\n",
       "pet_type             object\n",
       "rating                int64\n",
       "re_buy                int64\n",
       "dtype: object"
      ]
     },
     "execution_count": 7,
     "metadata": {},
     "output_type": "execute_result"
    }
   ],
   "source": [
    "# re-checking the data types\n",
    "df_raw.dtypes"
   ]
  },
  {
   "cell_type": "code",
   "execution_count": 8,
   "id": "fdfbab1c",
   "metadata": {},
   "outputs": [
    {
     "data": {
      "text/html": [
       "<div>\n",
       "<style scoped>\n",
       "    .dataframe tbody tr th:only-of-type {\n",
       "        vertical-align: middle;\n",
       "    }\n",
       "\n",
       "    .dataframe tbody tr th {\n",
       "        vertical-align: top;\n",
       "    }\n",
       "\n",
       "    .dataframe thead th {\n",
       "        text-align: right;\n",
       "    }\n",
       "</style>\n",
       "<table border=\"1\" class=\"dataframe\">\n",
       "  <thead>\n",
       "    <tr style=\"text-align: right;\">\n",
       "      <th></th>\n",
       "      <th>product_id</th>\n",
       "      <th>price</th>\n",
       "      <th>rating</th>\n",
       "      <th>re_buy</th>\n",
       "    </tr>\n",
       "  </thead>\n",
       "  <tbody>\n",
       "    <tr>\n",
       "      <th>count</th>\n",
       "      <td>879.00000</td>\n",
       "      <td>879.000000</td>\n",
       "      <td>879.000000</td>\n",
       "      <td>879.000000</td>\n",
       "    </tr>\n",
       "    <tr>\n",
       "      <th>mean</th>\n",
       "      <td>4611.00000</td>\n",
       "      <td>128.212253</td>\n",
       "      <td>6.500569</td>\n",
       "      <td>0.466439</td>\n",
       "    </tr>\n",
       "    <tr>\n",
       "      <th>std</th>\n",
       "      <td>253.88974</td>\n",
       "      <td>71.923583</td>\n",
       "      <td>2.852835</td>\n",
       "      <td>0.499156</td>\n",
       "    </tr>\n",
       "    <tr>\n",
       "      <th>min</th>\n",
       "      <td>4172.00000</td>\n",
       "      <td>0.350000</td>\n",
       "      <td>1.000000</td>\n",
       "      <td>0.000000</td>\n",
       "    </tr>\n",
       "    <tr>\n",
       "      <th>25%</th>\n",
       "      <td>4391.50000</td>\n",
       "      <td>65.210000</td>\n",
       "      <td>5.000000</td>\n",
       "      <td>0.000000</td>\n",
       "    </tr>\n",
       "    <tr>\n",
       "      <th>50%</th>\n",
       "      <td>4611.00000</td>\n",
       "      <td>129.520000</td>\n",
       "      <td>6.000000</td>\n",
       "      <td>0.000000</td>\n",
       "    </tr>\n",
       "    <tr>\n",
       "      <th>75%</th>\n",
       "      <td>4830.50000</td>\n",
       "      <td>188.220000</td>\n",
       "      <td>10.000000</td>\n",
       "      <td>1.000000</td>\n",
       "    </tr>\n",
       "    <tr>\n",
       "      <th>max</th>\n",
       "      <td>5050.00000</td>\n",
       "      <td>252.690000</td>\n",
       "      <td>10.000000</td>\n",
       "      <td>1.000000</td>\n",
       "    </tr>\n",
       "  </tbody>\n",
       "</table>\n",
       "</div>"
      ],
      "text/plain": [
       "       product_id       price      rating      re_buy\n",
       "count   879.00000  879.000000  879.000000  879.000000\n",
       "mean   4611.00000  128.212253    6.500569    0.466439\n",
       "std     253.88974   71.923583    2.852835    0.499156\n",
       "min    4172.00000    0.350000    1.000000    0.000000\n",
       "25%    4391.50000   65.210000    5.000000    0.000000\n",
       "50%    4611.00000  129.520000    6.000000    0.000000\n",
       "75%    4830.50000  188.220000   10.000000    1.000000\n",
       "max    5050.00000  252.690000   10.000000    1.000000"
      ]
     },
     "execution_count": 8,
     "metadata": {},
     "output_type": "execute_result"
    }
   ],
   "source": [
    "# looking at the summary numerical data\n",
    "df_raw.describe()"
   ]
  },
  {
   "cell_type": "markdown",
   "id": "2d9ca2a1",
   "metadata": {},
   "source": [
    "## Data Cleaning Process"
   ]
  },
  {
   "cell_type": "markdown",
   "id": "a8280d7c",
   "metadata": {},
   "source": [
    "### Cleaning the sales column"
   ]
  },
  {
   "cell_type": "code",
   "execution_count": 9,
   "id": "21a4730f",
   "metadata": {},
   "outputs": [],
   "source": [
    "# cleaning the sales columns\n",
    "df_raw['sales'] = df_raw['sales'].apply(lambda x: x.split('$')[1])\n",
    "\n",
    "# replace comma with none\n",
    "df_raw['sales'] = df_raw['sales'].replace(',', '', regex=True)\n",
    "\n",
    "# changing the data type\n",
    "df_raw['sales'] = df_raw['sales'].astype(int)"
   ]
  },
  {
   "cell_type": "code",
   "execution_count": 10,
   "id": "e29dfbac",
   "metadata": {},
   "outputs": [
    {
     "data": {
      "text/html": [
       "<div>\n",
       "<style scoped>\n",
       "    .dataframe tbody tr th:only-of-type {\n",
       "        vertical-align: middle;\n",
       "    }\n",
       "\n",
       "    .dataframe tbody tr th {\n",
       "        vertical-align: top;\n",
       "    }\n",
       "\n",
       "    .dataframe thead th {\n",
       "        text-align: right;\n",
       "    }\n",
       "</style>\n",
       "<table border=\"1\" class=\"dataframe\">\n",
       "  <thead>\n",
       "    <tr style=\"text-align: right;\">\n",
       "      <th></th>\n",
       "      <th>product_id</th>\n",
       "      <th>product_category</th>\n",
       "      <th>sales</th>\n",
       "      <th>price</th>\n",
       "      <th>vendor_id</th>\n",
       "      <th>pet_size</th>\n",
       "      <th>pet_type</th>\n",
       "      <th>rating</th>\n",
       "      <th>re_buy</th>\n",
       "    </tr>\n",
       "  </thead>\n",
       "  <tbody>\n",
       "    <tr>\n",
       "      <th>0</th>\n",
       "      <td>5040</td>\n",
       "      <td>Equipment</td>\n",
       "      <td>123000</td>\n",
       "      <td>94.81</td>\n",
       "      <td>VC_1605</td>\n",
       "      <td>small</td>\n",
       "      <td>fish</td>\n",
       "      <td>7</td>\n",
       "      <td>1</td>\n",
       "    </tr>\n",
       "    <tr>\n",
       "      <th>1</th>\n",
       "      <td>4567</td>\n",
       "      <td>Toys</td>\n",
       "      <td>61000</td>\n",
       "      <td>120.95</td>\n",
       "      <td>VC_1132</td>\n",
       "      <td>small</td>\n",
       "      <td>cat</td>\n",
       "      <td>10</td>\n",
       "      <td>0</td>\n",
       "    </tr>\n",
       "    <tr>\n",
       "      <th>2</th>\n",
       "      <td>4237</td>\n",
       "      <td>Toys</td>\n",
       "      <td>218000</td>\n",
       "      <td>106.34</td>\n",
       "      <td>VC_802</td>\n",
       "      <td>small</td>\n",
       "      <td>hamster</td>\n",
       "      <td>6</td>\n",
       "      <td>0</td>\n",
       "    </tr>\n",
       "    <tr>\n",
       "      <th>3</th>\n",
       "      <td>4364</td>\n",
       "      <td>Snack</td>\n",
       "      <td>69000</td>\n",
       "      <td>241.27</td>\n",
       "      <td>VC_929</td>\n",
       "      <td>large</td>\n",
       "      <td>dog</td>\n",
       "      <td>1</td>\n",
       "      <td>1</td>\n",
       "    </tr>\n",
       "    <tr>\n",
       "      <th>4</th>\n",
       "      <td>4184</td>\n",
       "      <td>Supplements</td>\n",
       "      <td>138000</td>\n",
       "      <td>133.68</td>\n",
       "      <td>VC_749</td>\n",
       "      <td>large</td>\n",
       "      <td>dog</td>\n",
       "      <td>10</td>\n",
       "      <td>0</td>\n",
       "    </tr>\n",
       "  </tbody>\n",
       "</table>\n",
       "</div>"
      ],
      "text/plain": [
       "   product_id product_category   sales   price vendor_id pet_size pet_type  \\\n",
       "0        5040        Equipment  123000   94.81   VC_1605    small     fish   \n",
       "1        4567             Toys   61000  120.95   VC_1132    small      cat   \n",
       "2        4237             Toys  218000  106.34    VC_802    small  hamster   \n",
       "3        4364            Snack   69000  241.27    VC_929    large      dog   \n",
       "4        4184      Supplements  138000  133.68    VC_749    large      dog   \n",
       "\n",
       "   rating  re_buy  \n",
       "0       7       1  \n",
       "1      10       0  \n",
       "2       6       0  \n",
       "3       1       1  \n",
       "4      10       0  "
      ]
     },
     "execution_count": 10,
     "metadata": {},
     "output_type": "execute_result"
    }
   ],
   "source": [
    "# show the first 5 rows\n",
    "df_raw.head()"
   ]
  },
  {
   "cell_type": "code",
   "execution_count": 11,
   "id": "caf39db5",
   "metadata": {
    "scrolled": true
   },
   "outputs": [
    {
     "data": {
      "text/plain": [
       "product_id            int64\n",
       "product_category     object\n",
       "sales                 int32\n",
       "price               float64\n",
       "vendor_id            object\n",
       "pet_size             object\n",
       "pet_type             object\n",
       "rating                int64\n",
       "re_buy                int64\n",
       "dtype: object"
      ]
     },
     "execution_count": 11,
     "metadata": {},
     "output_type": "execute_result"
    }
   ],
   "source": [
    "# re-check df_raw data types\n",
    "df_raw.dtypes"
   ]
  },
  {
   "cell_type": "markdown",
   "id": "283a4141",
   "metadata": {},
   "source": [
    "### Cleaning the pet_type column"
   ]
  },
  {
   "cell_type": "code",
   "execution_count": 12,
   "id": "3919fc59",
   "metadata": {},
   "outputs": [
    {
     "data": {
      "text/plain": [
       "array(['fish', 'cat', 'hamster', 'dog', 'bird', 'rabbit'], dtype=object)"
      ]
     },
     "execution_count": 12,
     "metadata": {},
     "output_type": "execute_result"
    }
   ],
   "source": [
    "# checking the pet types unique values\n",
    "df_raw[\"pet_type\"].unique()"
   ]
  },
  {
   "cell_type": "code",
   "execution_count": 13,
   "id": "e74dbff6",
   "metadata": {},
   "outputs": [],
   "source": [
    "# making pets list which only be included int the analyis\n",
    "pets = [\"cat\", \"dog\", \"fish\", \"bird\"]\n",
    "\n",
    "# filtering pet types\n",
    "filt = df_raw[\"pet_type\"].isin(pets)\n",
    "\n",
    "# making the dataframe variable\n",
    "pet_sales = df_raw[filt]\n",
    "\n",
    "# drop unnecessary columns / keeping the important columns\n",
    "pet_sales = pet_sales[[\"product_category\", \"sales\", \"price\", \"pet_type\", \"rating\", \"re_buy\"]]\n",
    "\n",
    "# adding new column \"count\" for counting agg\n",
    "pet_sales[\"count\"] = 1"
   ]
  },
  {
   "cell_type": "code",
   "execution_count": 14,
   "id": "02a51023",
   "metadata": {},
   "outputs": [
    {
     "data": {
      "text/html": [
       "<div>\n",
       "<style scoped>\n",
       "    .dataframe tbody tr th:only-of-type {\n",
       "        vertical-align: middle;\n",
       "    }\n",
       "\n",
       "    .dataframe tbody tr th {\n",
       "        vertical-align: top;\n",
       "    }\n",
       "\n",
       "    .dataframe thead th {\n",
       "        text-align: right;\n",
       "    }\n",
       "</style>\n",
       "<table border=\"1\" class=\"dataframe\">\n",
       "  <thead>\n",
       "    <tr style=\"text-align: right;\">\n",
       "      <th></th>\n",
       "      <th>product_category</th>\n",
       "      <th>sales</th>\n",
       "      <th>price</th>\n",
       "      <th>pet_type</th>\n",
       "      <th>rating</th>\n",
       "      <th>re_buy</th>\n",
       "      <th>count</th>\n",
       "    </tr>\n",
       "  </thead>\n",
       "  <tbody>\n",
       "    <tr>\n",
       "      <th>0</th>\n",
       "      <td>Equipment</td>\n",
       "      <td>123000</td>\n",
       "      <td>94.81</td>\n",
       "      <td>fish</td>\n",
       "      <td>7</td>\n",
       "      <td>1</td>\n",
       "      <td>1</td>\n",
       "    </tr>\n",
       "    <tr>\n",
       "      <th>1</th>\n",
       "      <td>Toys</td>\n",
       "      <td>61000</td>\n",
       "      <td>120.95</td>\n",
       "      <td>cat</td>\n",
       "      <td>10</td>\n",
       "      <td>0</td>\n",
       "      <td>1</td>\n",
       "    </tr>\n",
       "    <tr>\n",
       "      <th>3</th>\n",
       "      <td>Snack</td>\n",
       "      <td>69000</td>\n",
       "      <td>241.27</td>\n",
       "      <td>dog</td>\n",
       "      <td>1</td>\n",
       "      <td>1</td>\n",
       "      <td>1</td>\n",
       "    </tr>\n",
       "    <tr>\n",
       "      <th>4</th>\n",
       "      <td>Supplements</td>\n",
       "      <td>138000</td>\n",
       "      <td>133.68</td>\n",
       "      <td>dog</td>\n",
       "      <td>10</td>\n",
       "      <td>0</td>\n",
       "      <td>1</td>\n",
       "    </tr>\n",
       "    <tr>\n",
       "      <th>5</th>\n",
       "      <td>Bedding</td>\n",
       "      <td>183000</td>\n",
       "      <td>51.60</td>\n",
       "      <td>cat</td>\n",
       "      <td>10</td>\n",
       "      <td>0</td>\n",
       "      <td>1</td>\n",
       "    </tr>\n",
       "  </tbody>\n",
       "</table>\n",
       "</div>"
      ],
      "text/plain": [
       "  product_category   sales   price pet_type  rating  re_buy  count\n",
       "0        Equipment  123000   94.81     fish       7       1      1\n",
       "1             Toys   61000  120.95      cat      10       0      1\n",
       "3            Snack   69000  241.27      dog       1       1      1\n",
       "4      Supplements  138000  133.68      dog      10       0      1\n",
       "5          Bedding  183000   51.60      cat      10       0      1"
      ]
     },
     "execution_count": 14,
     "metadata": {},
     "output_type": "execute_result"
    }
   ],
   "source": [
    "# print new dataframe variable\n",
    "pet_sales.head()"
   ]
  },
  {
   "cell_type": "code",
   "execution_count": 15,
   "id": "770f8aed",
   "metadata": {},
   "outputs": [
    {
     "data": {
      "text/plain": [
       "array(['fish', 'cat', 'dog', 'bird'], dtype=object)"
      ]
     },
     "execution_count": 15,
     "metadata": {},
     "output_type": "execute_result"
    }
   ],
   "source": [
    "# checking the pet types unique values\n",
    "pet_sales[\"pet_type\"].unique()"
   ]
  },
  {
   "cell_type": "markdown",
   "id": "d50c19b2",
   "metadata": {},
   "source": [
    "Several things that have been done in the data validation process are making sure whether the unique values for each column match the same amount in the data description, checking whether there are null values, doing data cleaning on the sales column so that it can be converted into an integer data type, do a filter to only use the important columns, and filter the pet type because we only need the pet type \"cat\", \"dog\", \"fish\", and \"bird\"."
   ]
  },
  {
   "cell_type": "markdown",
   "id": "fc2be1de",
   "metadata": {},
   "source": [
    "# Data Discovery and Visualization"
   ]
  },
  {
   "cell_type": "markdown",
   "id": "9b35ac90",
   "metadata": {},
   "source": [
    "## How many products are being purchased more than once?"
   ]
  },
  {
   "cell_type": "code",
   "execution_count": 16,
   "id": "2a6e26e7",
   "metadata": {},
   "outputs": [
    {
     "data": {
      "text/html": [
       "<div>\n",
       "<style scoped>\n",
       "    .dataframe tbody tr th:only-of-type {\n",
       "        vertical-align: middle;\n",
       "    }\n",
       "\n",
       "    .dataframe tbody tr th {\n",
       "        vertical-align: top;\n",
       "    }\n",
       "\n",
       "    .dataframe thead th {\n",
       "        text-align: right;\n",
       "    }\n",
       "</style>\n",
       "<table border=\"1\" class=\"dataframe\">\n",
       "  <thead>\n",
       "    <tr style=\"text-align: right;\">\n",
       "      <th></th>\n",
       "      <th>product_category</th>\n",
       "      <th>sales</th>\n",
       "      <th>price</th>\n",
       "      <th>pet_type</th>\n",
       "      <th>rating</th>\n",
       "      <th>re_buy</th>\n",
       "      <th>count</th>\n",
       "    </tr>\n",
       "  </thead>\n",
       "  <tbody>\n",
       "    <tr>\n",
       "      <th>0</th>\n",
       "      <td>Equipment</td>\n",
       "      <td>123000</td>\n",
       "      <td>94.81</td>\n",
       "      <td>fish</td>\n",
       "      <td>7</td>\n",
       "      <td>1</td>\n",
       "      <td>1</td>\n",
       "    </tr>\n",
       "    <tr>\n",
       "      <th>1</th>\n",
       "      <td>Toys</td>\n",
       "      <td>61000</td>\n",
       "      <td>120.95</td>\n",
       "      <td>cat</td>\n",
       "      <td>10</td>\n",
       "      <td>0</td>\n",
       "      <td>1</td>\n",
       "    </tr>\n",
       "    <tr>\n",
       "      <th>3</th>\n",
       "      <td>Snack</td>\n",
       "      <td>69000</td>\n",
       "      <td>241.27</td>\n",
       "      <td>dog</td>\n",
       "      <td>1</td>\n",
       "      <td>1</td>\n",
       "      <td>1</td>\n",
       "    </tr>\n",
       "    <tr>\n",
       "      <th>4</th>\n",
       "      <td>Supplements</td>\n",
       "      <td>138000</td>\n",
       "      <td>133.68</td>\n",
       "      <td>dog</td>\n",
       "      <td>10</td>\n",
       "      <td>0</td>\n",
       "      <td>1</td>\n",
       "    </tr>\n",
       "    <tr>\n",
       "      <th>5</th>\n",
       "      <td>Bedding</td>\n",
       "      <td>183000</td>\n",
       "      <td>51.60</td>\n",
       "      <td>cat</td>\n",
       "      <td>10</td>\n",
       "      <td>0</td>\n",
       "      <td>1</td>\n",
       "    </tr>\n",
       "  </tbody>\n",
       "</table>\n",
       "</div>"
      ],
      "text/plain": [
       "  product_category   sales   price pet_type  rating  re_buy  count\n",
       "0        Equipment  123000   94.81     fish       7       1      1\n",
       "1             Toys   61000  120.95      cat      10       0      1\n",
       "3            Snack   69000  241.27      dog       1       1      1\n",
       "4      Supplements  138000  133.68      dog      10       0      1\n",
       "5          Bedding  183000   51.60      cat      10       0      1"
      ]
     },
     "execution_count": 16,
     "metadata": {},
     "output_type": "execute_result"
    }
   ],
   "source": [
    "pet_sales.head()"
   ]
  },
  {
   "cell_type": "code",
   "execution_count": 17,
   "id": "9246d0d2",
   "metadata": {},
   "outputs": [
    {
     "data": {
      "text/html": [
       "<div>\n",
       "<style scoped>\n",
       "    .dataframe tbody tr th:only-of-type {\n",
       "        vertical-align: middle;\n",
       "    }\n",
       "\n",
       "    .dataframe tbody tr th {\n",
       "        vertical-align: top;\n",
       "    }\n",
       "\n",
       "    .dataframe thead th {\n",
       "        text-align: right;\n",
       "    }\n",
       "</style>\n",
       "<table border=\"1\" class=\"dataframe\">\n",
       "  <thead>\n",
       "    <tr style=\"text-align: right;\">\n",
       "      <th></th>\n",
       "      <th>re_buy</th>\n",
       "      <th>product_category</th>\n",
       "      <th>sales</th>\n",
       "      <th>price</th>\n",
       "      <th>pet_type</th>\n",
       "      <th>rating</th>\n",
       "      <th>count</th>\n",
       "    </tr>\n",
       "  </thead>\n",
       "  <tbody>\n",
       "    <tr>\n",
       "      <th>0</th>\n",
       "      <td>0</td>\n",
       "      <td>443</td>\n",
       "      <td>443</td>\n",
       "      <td>443</td>\n",
       "      <td>443</td>\n",
       "      <td>443</td>\n",
       "      <td>443</td>\n",
       "    </tr>\n",
       "    <tr>\n",
       "      <th>1</th>\n",
       "      <td>1</td>\n",
       "      <td>390</td>\n",
       "      <td>390</td>\n",
       "      <td>390</td>\n",
       "      <td>390</td>\n",
       "      <td>390</td>\n",
       "      <td>390</td>\n",
       "    </tr>\n",
       "  </tbody>\n",
       "</table>\n",
       "</div>"
      ],
      "text/plain": [
       "   re_buy  product_category  sales  price  pet_type  rating  count\n",
       "0       0               443    443    443       443     443    443\n",
       "1       1               390    390    390       390     390    390"
      ]
     },
     "execution_count": 17,
     "metadata": {},
     "output_type": "execute_result"
    }
   ],
   "source": [
    "# grouped pet sales by re_buy so we can see the total purchased product difference\n",
    "grp_pet_sales = pet_sales.groupby('re_buy').count().reset_index()\n",
    "\n",
    "# print the first 5 rows\n",
    "grp_pet_sales"
   ]
  },
  {
   "cell_type": "code",
   "execution_count": 18,
   "id": "2cab86f5",
   "metadata": {},
   "outputs": [
    {
     "data": {
      "image/png": "[encoded data removed]",
      "text/plain": [
       "<Figure size 432x288 with 1 Axes>"
      ]
     },
     "metadata": {},
     "output_type": "display_data"
    }
   ],
   "source": [
    "# visualizating the gropued pet sales by re_buy so we can actually see the differences\n",
    "fg = sns.barplot(x='re_buy', y='count', data = grp_pet_sales, palette='mako')\n",
    "\n",
    "# set the x dan y label\n",
    "fg.set_xlabel(\"Re-buy\", fontsize=14)\n",
    "fg.set_ylabel(\"Number of Purchased\", fontsize=14)\n",
    "\n",
    "# set the title\n",
    "fg.set_title(\"Total Number of Purchased Product\", y=1.06, fontsize=16)\n",
    "\n",
    "# settings the xtick labels\n",
    "fg.set_xticklabels([\"No\", \"Yes\"])\n",
    "\n",
    "# show the values in the container\n",
    "fg.text(1, 40, grp_pet_sales[\"count\"][1], color='black', ha='center')\n",
    "fg.text(0, 40, grp_pet_sales[\"count\"][0], color='black', ha='center')\n",
    "\n",
    "# show the plot\n",
    "plt.show()"
   ]
  },
  {
   "cell_type": "markdown",
   "id": "70825ac5",
   "metadata": {},
   "source": [
    "Now we can conclude that the total purchased product on re_buy=0 is more with a total of 443, while on re_buy=1 there are 390 purchased products."
   ]
  },
  {
   "cell_type": "code",
   "execution_count": 19,
   "id": "9512745e",
   "metadata": {},
   "outputs": [
    {
     "data": {
      "text/html": [
       "<div>\n",
       "<style scoped>\n",
       "    .dataframe tbody tr th:only-of-type {\n",
       "        vertical-align: middle;\n",
       "    }\n",
       "\n",
       "    .dataframe tbody tr th {\n",
       "        vertical-align: top;\n",
       "    }\n",
       "\n",
       "    .dataframe thead th {\n",
       "        text-align: right;\n",
       "    }\n",
       "</style>\n",
       "<table border=\"1\" class=\"dataframe\">\n",
       "  <thead>\n",
       "    <tr style=\"text-align: right;\">\n",
       "      <th></th>\n",
       "      <th>product_category</th>\n",
       "      <th>sales</th>\n",
       "      <th>price</th>\n",
       "      <th>pet_type</th>\n",
       "      <th>rating</th>\n",
       "      <th>re_buy</th>\n",
       "      <th>count</th>\n",
       "    </tr>\n",
       "  </thead>\n",
       "  <tbody>\n",
       "    <tr>\n",
       "      <th>0</th>\n",
       "      <td>Equipment</td>\n",
       "      <td>123000</td>\n",
       "      <td>94.81</td>\n",
       "      <td>fish</td>\n",
       "      <td>7</td>\n",
       "      <td>1</td>\n",
       "      <td>1</td>\n",
       "    </tr>\n",
       "    <tr>\n",
       "      <th>3</th>\n",
       "      <td>Snack</td>\n",
       "      <td>69000</td>\n",
       "      <td>241.27</td>\n",
       "      <td>dog</td>\n",
       "      <td>1</td>\n",
       "      <td>1</td>\n",
       "      <td>1</td>\n",
       "    </tr>\n",
       "    <tr>\n",
       "      <th>9</th>\n",
       "      <td>Medicine</td>\n",
       "      <td>141000</td>\n",
       "      <td>248.07</td>\n",
       "      <td>dog</td>\n",
       "      <td>10</td>\n",
       "      <td>1</td>\n",
       "      <td>1</td>\n",
       "    </tr>\n",
       "    <tr>\n",
       "      <th>10</th>\n",
       "      <td>Snack</td>\n",
       "      <td>185000</td>\n",
       "      <td>188.23</td>\n",
       "      <td>dog</td>\n",
       "      <td>10</td>\n",
       "      <td>1</td>\n",
       "      <td>1</td>\n",
       "    </tr>\n",
       "    <tr>\n",
       "      <th>12</th>\n",
       "      <td>Housing</td>\n",
       "      <td>93000</td>\n",
       "      <td>211.47</td>\n",
       "      <td>dog</td>\n",
       "      <td>10</td>\n",
       "      <td>1</td>\n",
       "      <td>1</td>\n",
       "    </tr>\n",
       "  </tbody>\n",
       "</table>\n",
       "</div>"
      ],
      "text/plain": [
       "   product_category   sales   price pet_type  rating  re_buy  count\n",
       "0         Equipment  123000   94.81     fish       7       1      1\n",
       "3             Snack   69000  241.27      dog       1       1      1\n",
       "9          Medicine  141000  248.07      dog      10       1      1\n",
       "10            Snack  185000  188.23      dog      10       1      1\n",
       "12          Housing   93000  211.47      dog      10       1      1"
      ]
     },
     "execution_count": 19,
     "metadata": {},
     "output_type": "execute_result"
    }
   ],
   "source": [
    "# filtering pet_sales for product only purchased more than once\n",
    "filt_pet_sales = pet_sales[pet_sales[\"re_buy\"] == 1]\n",
    "\n",
    "# print the first 5 rows\n",
    "filt_pet_sales.head()"
   ]
  },
  {
   "cell_type": "code",
   "execution_count": 20,
   "id": "0e43ab75",
   "metadata": {
    "scrolled": false
   },
   "outputs": [
    {
     "data": {
      "text/html": [
       "<div>\n",
       "<style scoped>\n",
       "    .dataframe tbody tr th:only-of-type {\n",
       "        vertical-align: middle;\n",
       "    }\n",
       "\n",
       "    .dataframe tbody tr th {\n",
       "        vertical-align: top;\n",
       "    }\n",
       "\n",
       "    .dataframe thead th {\n",
       "        text-align: right;\n",
       "    }\n",
       "</style>\n",
       "<table border=\"1\" class=\"dataframe\">\n",
       "  <thead>\n",
       "    <tr style=\"text-align: right;\">\n",
       "      <th></th>\n",
       "      <th>product_category</th>\n",
       "      <th>sales</th>\n",
       "      <th>price</th>\n",
       "      <th>rating</th>\n",
       "      <th>re_buy</th>\n",
       "      <th>count</th>\n",
       "    </tr>\n",
       "  </thead>\n",
       "  <tbody>\n",
       "    <tr>\n",
       "      <th>0</th>\n",
       "      <td>Accessory</td>\n",
       "      <td>2994000</td>\n",
       "      <td>2758.88</td>\n",
       "      <td>131</td>\n",
       "      <td>20</td>\n",
       "      <td>20</td>\n",
       "    </tr>\n",
       "    <tr>\n",
       "      <th>1</th>\n",
       "      <td>Bedding</td>\n",
       "      <td>2983000</td>\n",
       "      <td>2922.42</td>\n",
       "      <td>171</td>\n",
       "      <td>24</td>\n",
       "      <td>24</td>\n",
       "    </tr>\n",
       "    <tr>\n",
       "      <th>2</th>\n",
       "      <td>Clothes</td>\n",
       "      <td>2241000</td>\n",
       "      <td>2149.84</td>\n",
       "      <td>140</td>\n",
       "      <td>19</td>\n",
       "      <td>19</td>\n",
       "    </tr>\n",
       "    <tr>\n",
       "      <th>3</th>\n",
       "      <td>Equipment</td>\n",
       "      <td>8660000</td>\n",
       "      <td>9268.43</td>\n",
       "      <td>379</td>\n",
       "      <td>69</td>\n",
       "      <td>69</td>\n",
       "    </tr>\n",
       "    <tr>\n",
       "      <th>4</th>\n",
       "      <td>Food</td>\n",
       "      <td>3972000</td>\n",
       "      <td>4632.86</td>\n",
       "      <td>293</td>\n",
       "      <td>37</td>\n",
       "      <td>37</td>\n",
       "    </tr>\n",
       "    <tr>\n",
       "      <th>5</th>\n",
       "      <td>Grooming</td>\n",
       "      <td>2109000</td>\n",
       "      <td>2298.11</td>\n",
       "      <td>112</td>\n",
       "      <td>17</td>\n",
       "      <td>17</td>\n",
       "    </tr>\n",
       "    <tr>\n",
       "      <th>6</th>\n",
       "      <td>Housing</td>\n",
       "      <td>2490000</td>\n",
       "      <td>2208.92</td>\n",
       "      <td>145</td>\n",
       "      <td>20</td>\n",
       "      <td>20</td>\n",
       "    </tr>\n",
       "    <tr>\n",
       "      <th>7</th>\n",
       "      <td>Medicine</td>\n",
       "      <td>4374000</td>\n",
       "      <td>5318.15</td>\n",
       "      <td>252</td>\n",
       "      <td>37</td>\n",
       "      <td>37</td>\n",
       "    </tr>\n",
       "    <tr>\n",
       "      <th>8</th>\n",
       "      <td>Snack</td>\n",
       "      <td>6761000</td>\n",
       "      <td>7201.79</td>\n",
       "      <td>301</td>\n",
       "      <td>59</td>\n",
       "      <td>59</td>\n",
       "    </tr>\n",
       "    <tr>\n",
       "      <th>9</th>\n",
       "      <td>Supplements</td>\n",
       "      <td>3069000</td>\n",
       "      <td>3632.12</td>\n",
       "      <td>228</td>\n",
       "      <td>30</td>\n",
       "      <td>30</td>\n",
       "    </tr>\n",
       "    <tr>\n",
       "      <th>10</th>\n",
       "      <td>Toys</td>\n",
       "      <td>5934000</td>\n",
       "      <td>9378.62</td>\n",
       "      <td>288</td>\n",
       "      <td>58</td>\n",
       "      <td>58</td>\n",
       "    </tr>\n",
       "  </tbody>\n",
       "</table>\n",
       "</div>"
      ],
      "text/plain": [
       "   product_category    sales    price  rating  re_buy  count\n",
       "0         Accessory  2994000  2758.88     131      20     20\n",
       "1           Bedding  2983000  2922.42     171      24     24\n",
       "2           Clothes  2241000  2149.84     140      19     19\n",
       "3         Equipment  8660000  9268.43     379      69     69\n",
       "4              Food  3972000  4632.86     293      37     37\n",
       "5          Grooming  2109000  2298.11     112      17     17\n",
       "6           Housing  2490000  2208.92     145      20     20\n",
       "7          Medicine  4374000  5318.15     252      37     37\n",
       "8             Snack  6761000  7201.79     301      59     59\n",
       "9       Supplements  3069000  3632.12     228      30     30\n",
       "10             Toys  5934000  9378.62     288      58     58"
      ]
     },
     "execution_count": 20,
     "metadata": {},
     "output_type": "execute_result"
    }
   ],
   "source": [
    "# group dataset by product_category\n",
    "grouped_filt_pet_sales = filt_pet_sales.groupby(\"product_category\").sum().reset_index()\n",
    "\n",
    "# print\n",
    "grouped_filt_pet_sales"
   ]
  },
  {
   "cell_type": "code",
   "execution_count": 21,
   "id": "048a0ec0",
   "metadata": {},
   "outputs": [
    {
     "data": {
      "image/png": "[encoded data removed]",
      "text/plain": [
       "<Figure size 432x288 with 1 Axes>"
      ]
     },
     "metadata": {},
     "output_type": "display_data"
    }
   ],
   "source": [
    "# visualize all products category purchased with the most number of sales\n",
    "\n",
    "fg = sns.barplot(x=\"product_category\", y=\"re_buy\", data=grouped_filt_pet_sales.sort_values(\"count\", ascending=False))\n",
    "\n",
    "# set x and y label\n",
    "fg.set_xlabel(\"Number of Purchased\", fontsize=14)\n",
    "fg.set_ylabel(\"Product Category\", fontsize=14)\n",
    "\n",
    "# set the title\n",
    "fg.set_title(\"Product Category Purchased More Than Once\", y=1.07, fontsize=16)\n",
    "\n",
    "# show the values containers\n",
    "#fg.bar_label(fg.containers[0])\n",
    "\n",
    "# settings the xticks labels\n",
    "plt.xticks(rotation=90, fontsize=12)\n",
    "\n",
    "# show plot\n",
    "plt.show()"
   ]
  },
  {
   "cell_type": "markdown",
   "id": "cd66334d",
   "metadata": {},
   "source": [
    "We can see that Equipment is the best-selling product category for Pet Sales with total sales of 69, and the second best-selling product category is Snack with total sales of 59, then there is the Toys product category with sales almost the same as Snack, which is 58 product sales."
   ]
  },
  {
   "cell_type": "markdown",
   "id": "e0a278fd",
   "metadata": {},
   "source": [
    "## Do the products being purchased again have better sales than others?"
   ]
  },
  {
   "cell_type": "code",
   "execution_count": 22,
   "id": "615adcd2",
   "metadata": {},
   "outputs": [
    {
     "data": {
      "text/html": [
       "<div>\n",
       "<style scoped>\n",
       "    .dataframe tbody tr th:only-of-type {\n",
       "        vertical-align: middle;\n",
       "    }\n",
       "\n",
       "    .dataframe tbody tr th {\n",
       "        vertical-align: top;\n",
       "    }\n",
       "\n",
       "    .dataframe thead th {\n",
       "        text-align: right;\n",
       "    }\n",
       "</style>\n",
       "<table border=\"1\" class=\"dataframe\">\n",
       "  <thead>\n",
       "    <tr style=\"text-align: right;\">\n",
       "      <th></th>\n",
       "      <th>product_category</th>\n",
       "      <th>sales</th>\n",
       "      <th>price</th>\n",
       "      <th>pet_type</th>\n",
       "      <th>rating</th>\n",
       "      <th>re_buy</th>\n",
       "      <th>count</th>\n",
       "    </tr>\n",
       "  </thead>\n",
       "  <tbody>\n",
       "    <tr>\n",
       "      <th>0</th>\n",
       "      <td>Equipment</td>\n",
       "      <td>123000</td>\n",
       "      <td>94.81</td>\n",
       "      <td>fish</td>\n",
       "      <td>7</td>\n",
       "      <td>1</td>\n",
       "      <td>1</td>\n",
       "    </tr>\n",
       "    <tr>\n",
       "      <th>1</th>\n",
       "      <td>Toys</td>\n",
       "      <td>61000</td>\n",
       "      <td>120.95</td>\n",
       "      <td>cat</td>\n",
       "      <td>10</td>\n",
       "      <td>0</td>\n",
       "      <td>1</td>\n",
       "    </tr>\n",
       "    <tr>\n",
       "      <th>3</th>\n",
       "      <td>Snack</td>\n",
       "      <td>69000</td>\n",
       "      <td>241.27</td>\n",
       "      <td>dog</td>\n",
       "      <td>1</td>\n",
       "      <td>1</td>\n",
       "      <td>1</td>\n",
       "    </tr>\n",
       "    <tr>\n",
       "      <th>4</th>\n",
       "      <td>Supplements</td>\n",
       "      <td>138000</td>\n",
       "      <td>133.68</td>\n",
       "      <td>dog</td>\n",
       "      <td>10</td>\n",
       "      <td>0</td>\n",
       "      <td>1</td>\n",
       "    </tr>\n",
       "    <tr>\n",
       "      <th>5</th>\n",
       "      <td>Bedding</td>\n",
       "      <td>183000</td>\n",
       "      <td>51.60</td>\n",
       "      <td>cat</td>\n",
       "      <td>10</td>\n",
       "      <td>0</td>\n",
       "      <td>1</td>\n",
       "    </tr>\n",
       "  </tbody>\n",
       "</table>\n",
       "</div>"
      ],
      "text/plain": [
       "  product_category   sales   price pet_type  rating  re_buy  count\n",
       "0        Equipment  123000   94.81     fish       7       1      1\n",
       "1             Toys   61000  120.95      cat      10       0      1\n",
       "3            Snack   69000  241.27      dog       1       1      1\n",
       "4      Supplements  138000  133.68      dog      10       0      1\n",
       "5          Bedding  183000   51.60      cat      10       0      1"
      ]
     },
     "execution_count": 22,
     "metadata": {},
     "output_type": "execute_result"
    }
   ],
   "source": [
    "# recall pet_sales\n",
    "pet_sales.head()"
   ]
  },
  {
   "cell_type": "code",
   "execution_count": 23,
   "id": "4849f5e7",
   "metadata": {},
   "outputs": [
    {
     "data": {
      "text/html": [
       "<div>\n",
       "<style scoped>\n",
       "    .dataframe tbody tr th:only-of-type {\n",
       "        vertical-align: middle;\n",
       "    }\n",
       "\n",
       "    .dataframe tbody tr th {\n",
       "        vertical-align: top;\n",
       "    }\n",
       "\n",
       "    .dataframe thead th {\n",
       "        text-align: right;\n",
       "    }\n",
       "</style>\n",
       "<table border=\"1\" class=\"dataframe\">\n",
       "  <thead>\n",
       "    <tr style=\"text-align: right;\">\n",
       "      <th></th>\n",
       "      <th>product_category</th>\n",
       "      <th>sales</th>\n",
       "      <th>re_buy</th>\n",
       "      <th>count</th>\n",
       "    </tr>\n",
       "  </thead>\n",
       "  <tbody>\n",
       "    <tr>\n",
       "      <th>0</th>\n",
       "      <td>Equipment</td>\n",
       "      <td>123000</td>\n",
       "      <td>1</td>\n",
       "      <td>1</td>\n",
       "    </tr>\n",
       "    <tr>\n",
       "      <th>1</th>\n",
       "      <td>Toys</td>\n",
       "      <td>61000</td>\n",
       "      <td>0</td>\n",
       "      <td>1</td>\n",
       "    </tr>\n",
       "    <tr>\n",
       "      <th>3</th>\n",
       "      <td>Snack</td>\n",
       "      <td>69000</td>\n",
       "      <td>1</td>\n",
       "      <td>1</td>\n",
       "    </tr>\n",
       "    <tr>\n",
       "      <th>4</th>\n",
       "      <td>Supplements</td>\n",
       "      <td>138000</td>\n",
       "      <td>0</td>\n",
       "      <td>1</td>\n",
       "    </tr>\n",
       "    <tr>\n",
       "      <th>5</th>\n",
       "      <td>Bedding</td>\n",
       "      <td>183000</td>\n",
       "      <td>0</td>\n",
       "      <td>1</td>\n",
       "    </tr>\n",
       "  </tbody>\n",
       "</table>\n",
       "</div>"
      ],
      "text/plain": [
       "  product_category   sales  re_buy  count\n",
       "0        Equipment  123000       1      1\n",
       "1             Toys   61000       0      1\n",
       "3            Snack   69000       1      1\n",
       "4      Supplements  138000       0      1\n",
       "5          Bedding  183000       0      1"
      ]
     },
     "execution_count": 23,
     "metadata": {},
     "output_type": "execute_result"
    }
   ],
   "source": [
    "# filtering only necessary columns for this task\n",
    "sales_vs_rebuy = pet_sales[[\"product_category\", \"sales\", \"re_buy\", \"count\"]]\n",
    "\n",
    "# print the first 5 rows\n",
    "sales_vs_rebuy.head()"
   ]
  },
  {
   "cell_type": "code",
   "execution_count": 24,
   "id": "1a435c8b",
   "metadata": {},
   "outputs": [
    {
     "data": {
      "image/png": "[encoded data removed]",
      "text/plain": [
       "<Figure size 432x288 with 1 Axes>"
      ]
     },
     "metadata": {},
     "output_type": "display_data"
    }
   ],
   "source": [
    "# make a histogram plot to see the distribution of sales\n",
    "fg = sns.histplot(x='sales', data=sales_vs_rebuy, hue='re_buy', multiple=\"stack\", palette='flare')\n",
    "\n",
    "# set the x and y label\n",
    "fg.set_xlabel(\"Sales\", fontsize=14)\n",
    "fg.set_ylabel(\"Quantity\", fontsize=14)\n",
    "\n",
    "# set the title\n",
    "fg.set_title(\"Sales Distribution\", y=1.07, fontsize=16)\n",
    "\n",
    "# tighten the plot\n",
    "plt.tight_layout()\n",
    "\n",
    "# show plot\n",
    "plt.show()"
   ]
  },
  {
   "cell_type": "markdown",
   "id": "96a66573",
   "metadata": {},
   "source": [
    "As we can see, based on the histogram distribution that we have created, the number of sales is higher at re_buy=0, although there is no significant difference. So we can conclude that it is not related to whether the product is purchased more than once or not."
   ]
  },
  {
   "cell_type": "code",
   "execution_count": 25,
   "id": "5c226342",
   "metadata": {},
   "outputs": [
    {
     "data": {
      "image/png": "[encoded data removed]",
      "text/plain": [
       "<Figure size 419.275x360 with 1 Axes>"
      ]
     },
     "metadata": {},
     "output_type": "display_data"
    }
   ],
   "source": [
    "# Now we will take a look at the top 5 purchased products whether they are purchased more than once or not\n",
    "\n",
    "# making the top 5 list product categories\n",
    "top5 = [\"Equipment\", \"Snack\", \"Toys\", \"Food\", \"Medicine\"]\n",
    "\n",
    "# filtering the top 5 categories\n",
    "top5_pet_sales = pet_sales[pet_sales[\"product_category\"].isin(top5)]\n",
    "\n",
    "# plotting categories\n",
    "fg = sns.catplot(data=top5_pet_sales, kind=\"swarm\", x=\"product_category\", y=\"sales\", hue=\"re_buy\")\n",
    "\n",
    "# setting x and y label\n",
    "fg.axes[0,0].set_xlabel(\"Product Category\", fontsize=14)\n",
    "fg.axes[0,0].set_ylabel(\"Sales\", fontsize=14)\n",
    "\n",
    "# setting title label\n",
    "fg.axes[0,0].set_title(\"Top 5 Purchased Product\", y=1.06, fontsize=16)\n",
    "\n",
    "# setting xtick labels\n",
    "fg.set_xticklabels(rotation=45, horizontalalignment='right')\n",
    "\n",
    "# show plot\n",
    "plt.show()"
   ]
  },
  {
   "cell_type": "markdown",
   "id": "a58af037",
   "metadata": {},
   "source": [
    "we can see that the product categories that sell the most are Equipment, Snack and Toys judging from the number of points that occur, in addition to whether the product was purchased more than once or not."
   ]
  },
  {
   "cell_type": "code",
   "execution_count": 26,
   "id": "fb114c6f",
   "metadata": {
    "scrolled": true
   },
   "outputs": [
    {
     "data": {
      "text/html": [
       "<div>\n",
       "<style scoped>\n",
       "    .dataframe tbody tr th:only-of-type {\n",
       "        vertical-align: middle;\n",
       "    }\n",
       "\n",
       "    .dataframe tbody tr th {\n",
       "        vertical-align: top;\n",
       "    }\n",
       "\n",
       "    .dataframe thead th {\n",
       "        text-align: right;\n",
       "    }\n",
       "</style>\n",
       "<table border=\"1\" class=\"dataframe\">\n",
       "  <thead>\n",
       "    <tr style=\"text-align: right;\">\n",
       "      <th></th>\n",
       "      <th>re_buy</th>\n",
       "      <th>sales</th>\n",
       "      <th>count</th>\n",
       "    </tr>\n",
       "  </thead>\n",
       "  <tbody>\n",
       "    <tr>\n",
       "      <th>0</th>\n",
       "      <td>0</td>\n",
       "      <td>51125000</td>\n",
       "      <td>443</td>\n",
       "    </tr>\n",
       "    <tr>\n",
       "      <th>1</th>\n",
       "      <td>1</td>\n",
       "      <td>45587000</td>\n",
       "      <td>390</td>\n",
       "    </tr>\n",
       "  </tbody>\n",
       "</table>\n",
       "</div>"
      ],
      "text/plain": [
       "   re_buy     sales  count\n",
       "0       0  51125000    443\n",
       "1       1  45587000    390"
      ]
     },
     "execution_count": 26,
     "metadata": {},
     "output_type": "execute_result"
    }
   ],
   "source": [
    "# looking the sum of sales group by re_buy\n",
    "# answer task 2\n",
    "grouped_sales_vs_rebuy = sales_vs_rebuy.groupby([\"re_buy\"]).sum().reset_index()\n",
    "\n",
    "# print\n",
    "grouped_sales_vs_rebuy"
   ]
  },
  {
   "cell_type": "code",
   "execution_count": 27,
   "id": "c4fb67a1",
   "metadata": {},
   "outputs": [
    {
     "data": {
      "image/png": "[encoded data removed]",
      "text/plain": [
       "<Figure size 432x288 with 1 Axes>"
      ]
     },
     "metadata": {},
     "output_type": "display_data"
    }
   ],
   "source": [
    "# visualizing the answer task 2\n",
    "fg = sns.barplot(x='re_buy', y='count', data=grouped_sales_vs_rebuy, palette='flare')\n",
    "\n",
    "# set the x and y label\n",
    "fg.set_xlabel(\"Re-buy\", fontsize=14)\n",
    "fg.set_ylabel(\"Number of Purchased\", fontsize=14)\n",
    "\n",
    "# set the title\n",
    "fg.set_title(\"Total Number of Purchased Product\", y=1.06, fontsize=16)\n",
    "\n",
    "# set xtick labels\n",
    "fg.set_xticklabels([\"No\", \"Yes\"])\n",
    "\n",
    "# show the values in the containers\n",
    "fg.text(1, 40, grouped_sales_vs_rebuy[\"count\"][1], color='black', ha='center')\n",
    "fg.text(0, 40, grouped_sales_vs_rebuy[\"count\"][0], color='black', ha='center')\n",
    "\n",
    "# show plot\n",
    "plt.show()"
   ]
  },
  {
   "cell_type": "markdown",
   "id": "66d20620",
   "metadata": {},
   "source": [
    "After looking directly at the numerical data, we can draw the conclusion that the total sales does not depend on the product being sold more than once or not. We can also see that the reason why sales could be higher at re_buy=0 is because more products were purchased (443 products purchased)."
   ]
  },
  {
   "cell_type": "markdown",
   "id": "d5b542e8",
   "metadata": {},
   "source": [
    "## What products are more likely to be purchased again for different types of pets?"
   ]
  },
  {
   "cell_type": "code",
   "execution_count": 28,
   "id": "81fddf28",
   "metadata": {},
   "outputs": [
    {
     "data": {
      "text/html": [
       "<div>\n",
       "<style scoped>\n",
       "    .dataframe tbody tr th:only-of-type {\n",
       "        vertical-align: middle;\n",
       "    }\n",
       "\n",
       "    .dataframe tbody tr th {\n",
       "        vertical-align: top;\n",
       "    }\n",
       "\n",
       "    .dataframe thead th {\n",
       "        text-align: right;\n",
       "    }\n",
       "</style>\n",
       "<table border=\"1\" class=\"dataframe\">\n",
       "  <thead>\n",
       "    <tr style=\"text-align: right;\">\n",
       "      <th></th>\n",
       "      <th>product_category</th>\n",
       "      <th>sales</th>\n",
       "      <th>price</th>\n",
       "      <th>pet_type</th>\n",
       "      <th>rating</th>\n",
       "      <th>re_buy</th>\n",
       "      <th>count</th>\n",
       "    </tr>\n",
       "  </thead>\n",
       "  <tbody>\n",
       "    <tr>\n",
       "      <th>0</th>\n",
       "      <td>Equipment</td>\n",
       "      <td>123000</td>\n",
       "      <td>94.81</td>\n",
       "      <td>fish</td>\n",
       "      <td>7</td>\n",
       "      <td>1</td>\n",
       "      <td>1</td>\n",
       "    </tr>\n",
       "    <tr>\n",
       "      <th>3</th>\n",
       "      <td>Snack</td>\n",
       "      <td>69000</td>\n",
       "      <td>241.27</td>\n",
       "      <td>dog</td>\n",
       "      <td>1</td>\n",
       "      <td>1</td>\n",
       "      <td>1</td>\n",
       "    </tr>\n",
       "    <tr>\n",
       "      <th>9</th>\n",
       "      <td>Medicine</td>\n",
       "      <td>141000</td>\n",
       "      <td>248.07</td>\n",
       "      <td>dog</td>\n",
       "      <td>10</td>\n",
       "      <td>1</td>\n",
       "      <td>1</td>\n",
       "    </tr>\n",
       "    <tr>\n",
       "      <th>10</th>\n",
       "      <td>Snack</td>\n",
       "      <td>185000</td>\n",
       "      <td>188.23</td>\n",
       "      <td>dog</td>\n",
       "      <td>10</td>\n",
       "      <td>1</td>\n",
       "      <td>1</td>\n",
       "    </tr>\n",
       "    <tr>\n",
       "      <th>12</th>\n",
       "      <td>Housing</td>\n",
       "      <td>93000</td>\n",
       "      <td>211.47</td>\n",
       "      <td>dog</td>\n",
       "      <td>10</td>\n",
       "      <td>1</td>\n",
       "      <td>1</td>\n",
       "    </tr>\n",
       "  </tbody>\n",
       "</table>\n",
       "</div>"
      ],
      "text/plain": [
       "   product_category   sales   price pet_type  rating  re_buy  count\n",
       "0         Equipment  123000   94.81     fish       7       1      1\n",
       "3             Snack   69000  241.27      dog       1       1      1\n",
       "9          Medicine  141000  248.07      dog      10       1      1\n",
       "10            Snack  185000  188.23      dog      10       1      1\n",
       "12          Housing   93000  211.47      dog      10       1      1"
      ]
     },
     "execution_count": 28,
     "metadata": {},
     "output_type": "execute_result"
    }
   ],
   "source": [
    "# recall last filter pet sales dataset\n",
    "filt_pet_sales.head()"
   ]
  },
  {
   "cell_type": "code",
   "execution_count": 29,
   "id": "0344a4ed",
   "metadata": {
    "scrolled": false
   },
   "outputs": [
    {
     "data": {
      "image/png": "[encoded data removed]",
      "text/plain": [
       "<Figure size 1440x360 with 4 Axes>"
      ]
     },
     "metadata": {},
     "output_type": "display_data"
    }
   ],
   "source": [
    "# before answering the last task, i want to looking at the general distribution category by pet_type\n",
    "fg = sns.displot(data=filt_pet_sales, x=\"product_category\", col=\"pet_type\", kde=True)\n",
    "\n",
    "# setting up the xticks labels\n",
    "fg.set_xticklabels(rotation=65, horizontalalignment='right')\n",
    "\n",
    "# set the title\n",
    "fg.fig.suptitle('Product Category by Pet Types', y=1.2, fontsize=30)\n",
    "\n",
    "# show plot\n",
    "plt.show()"
   ]
  },
  {
   "cell_type": "markdown",
   "id": "c90b1a1a",
   "metadata": {},
   "source": [
    "From the distribution graph above, it can be seen that sales of product categories are generally more in demand by pet dogs and cats. Then it can be seen that the Equipment product category is the most consistently in demand in the four pet categories, followed by the Snack product category."
   ]
  },
  {
   "cell_type": "code",
   "execution_count": 30,
   "id": "4859b6a1",
   "metadata": {
    "scrolled": true
   },
   "outputs": [],
   "source": [
    "# grouped pet_sales by pet_type and product_category so we can easily identify the total of purchased product\n",
    "pets = filt_pet_sales.groupby([\"pet_type\", \"product_category\"])[[\"count\", \"sales\"]].sum().reset_index()"
   ]
  },
  {
   "cell_type": "code",
   "execution_count": 31,
   "id": "df726539",
   "metadata": {
    "scrolled": false
   },
   "outputs": [
    {
     "data": {
      "image/png": "[encoded data removed]",
      "text/plain": [
       "<Figure size 1440x360 with 4 Axes>"
      ]
     },
     "metadata": {},
     "output_type": "display_data"
    }
   ],
   "source": [
    "# Visualizing the grouped filtered pet_sales\n",
    "# answering task 3\n",
    "fg = sns.catplot(kind=\"bar\", y=\"product_category\", \n",
    "                 x=\"count\", col=\"pet_type\", data=pets)\n",
    "\n",
    "# set the title\n",
    "fg.fig.suptitle('Product Category by Pet Types', y=1.15, fontsize=24)\n",
    "\n",
    "# show plot\n",
    "plt.show()"
   ]
  },
  {
   "cell_type": "markdown",
   "id": "4f62e570",
   "metadata": {},
   "source": [
    "After visualizing the total purchased product with the product category which is divided into four parts based on the pet_type category, we can see that the product categories that are most frequently purchased for each type of pets are different. For the Bird category, there are three best-selling products, namely Equipment, Snack, and Toys. For the Cats category, the best-selling product categories were Equipment and Toys with 27 and 25 sales, respectively. The best-selling product categories for Dogs were Equipment with 28 sales and Snacks with 25 sales. As for fish pet_type, which is the least in total sales, the product category that sells the most is Snack and Equipment with 8 and 7 total product sales, respectively."
   ]
  },
  {
   "cell_type": "code",
   "execution_count": null,
   "id": "a402a347",
   "metadata": {},
   "outputs": [],
   "source": []
  }
 ],
 "metadata": {
  "kernelspec": {
   "display_name": "Python 3 (ipykernel)",
   "language": "python",
   "name": "python3"
  },
  "language_info": {
   "codemirror_mode": {
    "name": "ipython",
    "version": 3
   },
   "file_extension": ".py",
   "mimetype": "text/x-python",
   "name": "python",
   "nbconvert_exporter": "python",
   "pygments_lexer": "ipython3",
   "version": "3.9.5"
  }
 },
 "nbformat": 4,
 "nbformat_minor": 5
}
